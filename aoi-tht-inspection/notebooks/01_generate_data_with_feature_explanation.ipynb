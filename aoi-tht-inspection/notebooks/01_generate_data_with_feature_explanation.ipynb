{
 "cells": [
  {
   "cell_type": "markdown",
   "id": "f1a9e8ee",
   "metadata": {},
   "source": [
    "# 🧪 Notebook 01: Datengenerierung für AOI-THT-Inspektion\n",
    "Dieses Notebook erzeugt einen simulierten Datensatz zur Lötstelleninspektion mittels AOI-System.\n",
    "Es werden synthetische Merkmale wie Volumen, Höhe, Rundheit usw. erzeugt – aufgeteilt in OK- und NOK-Bauteile mit einem Verhältnis von 4:1 (80 % OK, 20 % NOK)."
   ]
  },
  {
   "cell_type": "code",
   "id": "70bafa00",
   "metadata": {
    "ExecuteTime": {
     "end_time": "2025-04-19T13:47:20.109611Z",
     "start_time": "2025-04-19T13:47:15.313827Z"
    }
   },
   "source": [
    "import pandas as pd\n",
    "import numpy as np"
   ],
   "outputs": [],
   "execution_count": 1
  },
  {
   "cell_type": "code",
   "id": "746e50c5",
   "metadata": {
    "ExecuteTime": {
     "end_time": "2025-04-19T13:47:20.555351Z",
     "start_time": "2025-04-19T13:47:20.544161Z"
    }
   },
   "source": [
    "# Parameter\n",
    "np.random.seed(97)\n",
    "n_samples = 500\n",
    "ok_ratio = 0.8\n",
    "n_ok = int(n_samples * ok_ratio)\n",
    "n_nok = n_samples - n_ok"
   ],
   "outputs": [],
   "execution_count": 3
  },
  {
   "cell_type": "code",
   "id": "d460178e",
   "metadata": {
    "ExecuteTime": {
     "end_time": "2025-04-19T13:47:20.696460Z",
     "start_time": "2025-04-19T13:47:20.684249Z"
    }
   },
   "source": [
    "\n",
    "# OK-Daten simulieren\n",
    "  #loc: Mittelwert,\n",
    "  #scale: Standardabweichung \n",
    "  #size: Anzahl der Werte\n",
    "\n",
    "ok_data = {\n",
    "    'convex_volume': np.random.normal(loc=2.5, scale=0.3, size=n_ok),\n",
    "    'max_height': np.random.normal(loc=1.5, scale=0.2, size=n_ok),\n",
    "    'area': np.random.normal(loc=4.0, scale=0.4, size=n_ok),\n",
    "    'roundness': np.random.normal(loc=0.9, scale=0.05, size=n_ok),\n",
    "    'pad_distance': np.random.normal(loc=0.2, scale=0.05, size=n_ok),\n",
    "    'label': ['OK'] * n_ok\n",
    "}\n",
    "\n",
    "# NOK-Daten simulieren\n",
    "nok_data = {\n",
    "    'convex_volume': np.random.normal(loc=4.5, scale=0.5, size=n_nok),\n",
    "    'max_height': np.random.normal(loc=2.5, scale=0.3, size=n_nok),\n",
    "    'area': np.random.normal(loc=5.5, scale=0.6, size=n_nok),\n",
    "    'roundness': np.random.normal(loc=0.6, scale=0.1, size=n_nok),\n",
    "    'pad_distance': np.random.normal(loc=0.05, scale=0.02, size=n_nok),\n",
    "    'label': ['NOK'] * n_nok\n",
    "}\n"
   ],
   "outputs": [],
   "execution_count": 5
  },
  {
   "cell_type": "code",
   "id": "68fea991",
   "metadata": {
    "ExecuteTime": {
     "end_time": "2025-04-19T13:47:59.539868Z",
     "start_time": "2025-04-19T13:47:59.514166Z"
    }
   },
   "source": [
    "# Daten kombinieren & mischen\n",
    "df_ok = pd.DataFrame(ok_data)\n",
    "df_nok = pd.DataFrame(nok_data)\n",
    "df = pd.concat([df_ok, df_nok]).sample(frac=1, random_state=97).reset_index(drop=True)\n",
    "df = df.round(4)\n",
    "df.head(10)"
   ],
   "outputs": [
    {
     "data": {
      "text/plain": [
       "   convex_volume  max_height    area  roundness  pad_distance label\n",
       "0         1.9264      1.4259  3.8846     0.8988        0.2280    OK\n",
       "1         2.6191      1.5801  4.2819     0.9030        0.1525    OK\n",
       "2         2.9427      1.2019  3.3805     0.8941        0.2546    OK\n",
       "3         2.6678      1.7501  4.1928     0.8484        0.1524    OK\n",
       "4         4.0634      2.0017  6.3782     0.5019        0.0802   NOK\n",
       "5         2.3926      1.2957  3.7398     0.8317        0.1974    OK\n",
       "6         2.2502      1.4045  3.6152     0.9566        0.2624    OK\n",
       "7         2.6682      1.4022  3.5797     0.8346        0.1802    OK\n",
       "8         3.0173      1.1952  3.8982     0.8690        0.2108    OK\n",
       "9         2.4635      1.3904  3.4636     0.8393        0.1685    OK"
      ],
      "text/html": [
       "<div>\n",
       "<style scoped>\n",
       "    .dataframe tbody tr th:only-of-type {\n",
       "        vertical-align: middle;\n",
       "    }\n",
       "\n",
       "    .dataframe tbody tr th {\n",
       "        vertical-align: top;\n",
       "    }\n",
       "\n",
       "    .dataframe thead th {\n",
       "        text-align: right;\n",
       "    }\n",
       "</style>\n",
       "<table border=\"1\" class=\"dataframe\">\n",
       "  <thead>\n",
       "    <tr style=\"text-align: right;\">\n",
       "      <th></th>\n",
       "      <th>convex_volume</th>\n",
       "      <th>max_height</th>\n",
       "      <th>area</th>\n",
       "      <th>roundness</th>\n",
       "      <th>pad_distance</th>\n",
       "      <th>label</th>\n",
       "    </tr>\n",
       "  </thead>\n",
       "  <tbody>\n",
       "    <tr>\n",
       "      <th>0</th>\n",
       "      <td>1.9264</td>\n",
       "      <td>1.4259</td>\n",
       "      <td>3.8846</td>\n",
       "      <td>0.8988</td>\n",
       "      <td>0.2280</td>\n",
       "      <td>OK</td>\n",
       "    </tr>\n",
       "    <tr>\n",
       "      <th>1</th>\n",
       "      <td>2.6191</td>\n",
       "      <td>1.5801</td>\n",
       "      <td>4.2819</td>\n",
       "      <td>0.9030</td>\n",
       "      <td>0.1525</td>\n",
       "      <td>OK</td>\n",
       "    </tr>\n",
       "    <tr>\n",
       "      <th>2</th>\n",
       "      <td>2.9427</td>\n",
       "      <td>1.2019</td>\n",
       "      <td>3.3805</td>\n",
       "      <td>0.8941</td>\n",
       "      <td>0.2546</td>\n",
       "      <td>OK</td>\n",
       "    </tr>\n",
       "    <tr>\n",
       "      <th>3</th>\n",
       "      <td>2.6678</td>\n",
       "      <td>1.7501</td>\n",
       "      <td>4.1928</td>\n",
       "      <td>0.8484</td>\n",
       "      <td>0.1524</td>\n",
       "      <td>OK</td>\n",
       "    </tr>\n",
       "    <tr>\n",
       "      <th>4</th>\n",
       "      <td>4.0634</td>\n",
       "      <td>2.0017</td>\n",
       "      <td>6.3782</td>\n",
       "      <td>0.5019</td>\n",
       "      <td>0.0802</td>\n",
       "      <td>NOK</td>\n",
       "    </tr>\n",
       "    <tr>\n",
       "      <th>5</th>\n",
       "      <td>2.3926</td>\n",
       "      <td>1.2957</td>\n",
       "      <td>3.7398</td>\n",
       "      <td>0.8317</td>\n",
       "      <td>0.1974</td>\n",
       "      <td>OK</td>\n",
       "    </tr>\n",
       "    <tr>\n",
       "      <th>6</th>\n",
       "      <td>2.2502</td>\n",
       "      <td>1.4045</td>\n",
       "      <td>3.6152</td>\n",
       "      <td>0.9566</td>\n",
       "      <td>0.2624</td>\n",
       "      <td>OK</td>\n",
       "    </tr>\n",
       "    <tr>\n",
       "      <th>7</th>\n",
       "      <td>2.6682</td>\n",
       "      <td>1.4022</td>\n",
       "      <td>3.5797</td>\n",
       "      <td>0.8346</td>\n",
       "      <td>0.1802</td>\n",
       "      <td>OK</td>\n",
       "    </tr>\n",
       "    <tr>\n",
       "      <th>8</th>\n",
       "      <td>3.0173</td>\n",
       "      <td>1.1952</td>\n",
       "      <td>3.8982</td>\n",
       "      <td>0.8690</td>\n",
       "      <td>0.2108</td>\n",
       "      <td>OK</td>\n",
       "    </tr>\n",
       "    <tr>\n",
       "      <th>9</th>\n",
       "      <td>2.4635</td>\n",
       "      <td>1.3904</td>\n",
       "      <td>3.4636</td>\n",
       "      <td>0.8393</td>\n",
       "      <td>0.1685</td>\n",
       "      <td>OK</td>\n",
       "    </tr>\n",
       "  </tbody>\n",
       "</table>\n",
       "</div>"
      ]
     },
     "execution_count": 12,
     "metadata": {},
     "output_type": "execute_result"
    }
   ],
   "execution_count": 12
  },
  {
   "cell_type": "code",
   "id": "2c235a1b",
   "metadata": {
    "ExecuteTime": {
     "end_time": "2025-04-19T13:47:20.909044Z",
     "start_time": "2025-04-19T13:47:20.885198Z"
    }
   },
   "source": [
    "df.label.value_counts(normalize=True)"
   ],
   "outputs": [
    {
     "data": {
      "text/plain": [
       "label\n",
       "OK     0.8\n",
       "NOK    0.2\n",
       "Name: proportion, dtype: float64"
      ]
     },
     "execution_count": 7,
     "metadata": {},
     "output_type": "execute_result"
    }
   ],
   "execution_count": 7
  },
  {
   "cell_type": "code",
   "id": "bd99ed21",
   "metadata": {
    "ExecuteTime": {
     "end_time": "2025-04-19T13:47:21.290122Z",
     "start_time": "2025-04-19T13:47:21.274210Z"
    }
   },
   "source": [
    "output_file = \"01_generated_aoi_data_80_20_ratio_rounded.csv\"\n",
    "df.to_csv(output_file, index=False)\n",
    "print(f\"Datei gespeichert unter: {output_file}\")"
   ],
   "outputs": [
    {
     "name": "stdout",
     "output_type": "stream",
     "text": [
      "Datei gespeichert unter: 01_generated_aoi_data_80_20_ratio_rounded.csv\n"
     ]
    }
   ],
   "execution_count": 9
  },
  {
   "cell_type": "markdown",
   "id": "6d7ba644",
   "metadata": {},
   "source": [
    "\n",
    "## 📊 Merkmalsbeschreibung des AOI-Datensatzes\n",
    "\n",
    "Im Folgenden werden die 5 wichtigsten numerischen Merkmale beschrieben, die zur Klassifikation von THT-Lötfehlern verwendet werden:\n",
    "\n",
    "| Spalte           | Bedeutung | Praxisbezug                                                                                             | Typischer Unterschied: OK vs. NOK |\n",
    "|------------------|-----------|---------------------------------------------------------------------------------------------------------|------------------------------------|\n",
    "| `convex_volume`  | **Volumen der Lotstruktur** (in mm³) | Misst, wie viel Lötzinn vorhanden ist. Hohe Volumenwerte deuten oft auf Lotkugeln hin.                  | ✅ OK: ~2–3 mm³<br>❌ NOK: ~4–6 mm³ |\n",
    "| `max_height`     | **Maximale Höhe** des Objekts (Z-Achse) | Zeigt die Erhebung – Lotkugeln ragen meist höher hervor.                                       | ✅ OK: ~1.5 mm<br>❌ NOK: ~2.5 mm |\n",
    "| `area`           | **Fläche der Projektion** (in mm²) | Wie groß erscheint das Objekt von oben? Glanz oder Flussmittel können dies beeinflussen.                | ✅ OK: kompakt<br>❌ NOK: großflächig |\n",
    "| `roundness`      | **Formfaktor** (0–1) | Gibt an, wie rund das Objekt ist. Lotkugeln sind kugelförmig, wenn diese unter Stickstoff entstehen | ✅ OK: nahe 1.0<br>❌ NOK: verzerrt (z. B. 0.5–0.7) |\n",
    "| `pad_distance`   | **Abstand zur Padkante** (in mm) | Kritischer Faktor für Schlupf. Wenn die Lotkugel zu nah an einem Lötpad liegt, besteht Kurzschlussgefahr. | ✅ OK: > 0.15 mm<br>❌ NOK: < 0.05 mm |\n",
    "\n",
    "Diese Merkmale spiegeln typische Prüfkriterien gemäß IPC-A-610 wider.\n"
   ]
  }
 ],
 "metadata": {
  "kernelspec": {
   "name": "python3",
   "language": "python",
   "display_name": "Python 3 (ipykernel)"
  }
 },
 "nbformat": 4,
 "nbformat_minor": 5
}
