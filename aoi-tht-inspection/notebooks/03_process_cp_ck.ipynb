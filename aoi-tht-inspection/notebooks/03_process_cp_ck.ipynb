{
 "cells": [
  {
   "cell_type": "markdown",
   "id": "03de6e1b",
   "metadata": {},
   "source": [
    "#  Cp/Cpk-Analyse für `convex_volume`\n",
    "In diesem Notebook analysieren wir die Prozessfähigkeit des AOI-Systems basierend auf dem Merkmal `convex_volume`, das im Modelltraining die höchste Feature Importance hatte. Ziel ist es, zu prüfen, ob der Prozess auch statistisch stabil ist, nicht nur modellseitig performant."
   ]
  },
  {
   "cell_type": "code",
   "id": "cbe60284",
   "metadata": {
    "ExecuteTime": {
     "end_time": "2025-04-20T08:18:46.579886Z",
     "start_time": "2025-04-20T08:18:46.568082Z"
    }
   },
   "source": [
    "import pandas as pd\n",
    "import numpy as np\n",
    "import matplotlib.pyplot as plt"
   ],
   "outputs": [],
   "execution_count": 3
  },
  {
   "cell_type": "code",
   "id": "ec31d48b",
   "metadata": {
    "ExecuteTime": {
     "end_time": "2025-04-20T08:18:55.618119Z",
     "start_time": "2025-04-20T08:18:55.599215Z"
    }
   },
   "source": [
    "# CSV-Datei laden\n",
    "df = pd.read_csv(\"01_generated_aoi_data_80_20_ratio_rounded.csv\")\n",
    "df.head(10)"
   ],
   "outputs": [
    {
     "data": {
      "text/plain": [
       "   convex_volume  max_height    area  roundness  pad_distance label\n",
       "0         1.9264      1.4259  3.8846     0.8988        0.2280    OK\n",
       "1         2.6191      1.5801  4.2819     0.9030        0.1525    OK\n",
       "2         2.9427      1.2019  3.3805     0.8941        0.2546    OK\n",
       "3         2.6678      1.7501  4.1928     0.8484        0.1524    OK\n",
       "4         4.0634      2.0017  6.3782     0.5019        0.0802   NOK\n",
       "5         2.3926      1.2957  3.7398     0.8317        0.1974    OK\n",
       "6         2.2502      1.4045  3.6152     0.9566        0.2624    OK\n",
       "7         2.6682      1.4022  3.5797     0.8346        0.1802    OK\n",
       "8         3.0173      1.1952  3.8982     0.8690        0.2108    OK\n",
       "9         2.4635      1.3904  3.4636     0.8393        0.1685    OK"
      ],
      "text/html": [
       "<div>\n",
       "<style scoped>\n",
       "    .dataframe tbody tr th:only-of-type {\n",
       "        vertical-align: middle;\n",
       "    }\n",
       "\n",
       "    .dataframe tbody tr th {\n",
       "        vertical-align: top;\n",
       "    }\n",
       "\n",
       "    .dataframe thead th {\n",
       "        text-align: right;\n",
       "    }\n",
       "</style>\n",
       "<table border=\"1\" class=\"dataframe\">\n",
       "  <thead>\n",
       "    <tr style=\"text-align: right;\">\n",
       "      <th></th>\n",
       "      <th>convex_volume</th>\n",
       "      <th>max_height</th>\n",
       "      <th>area</th>\n",
       "      <th>roundness</th>\n",
       "      <th>pad_distance</th>\n",
       "      <th>label</th>\n",
       "    </tr>\n",
       "  </thead>\n",
       "  <tbody>\n",
       "    <tr>\n",
       "      <th>0</th>\n",
       "      <td>1.9264</td>\n",
       "      <td>1.4259</td>\n",
       "      <td>3.8846</td>\n",
       "      <td>0.8988</td>\n",
       "      <td>0.2280</td>\n",
       "      <td>OK</td>\n",
       "    </tr>\n",
       "    <tr>\n",
       "      <th>1</th>\n",
       "      <td>2.6191</td>\n",
       "      <td>1.5801</td>\n",
       "      <td>4.2819</td>\n",
       "      <td>0.9030</td>\n",
       "      <td>0.1525</td>\n",
       "      <td>OK</td>\n",
       "    </tr>\n",
       "    <tr>\n",
       "      <th>2</th>\n",
       "      <td>2.9427</td>\n",
       "      <td>1.2019</td>\n",
       "      <td>3.3805</td>\n",
       "      <td>0.8941</td>\n",
       "      <td>0.2546</td>\n",
       "      <td>OK</td>\n",
       "    </tr>\n",
       "    <tr>\n",
       "      <th>3</th>\n",
       "      <td>2.6678</td>\n",
       "      <td>1.7501</td>\n",
       "      <td>4.1928</td>\n",
       "      <td>0.8484</td>\n",
       "      <td>0.1524</td>\n",
       "      <td>OK</td>\n",
       "    </tr>\n",
       "    <tr>\n",
       "      <th>4</th>\n",
       "      <td>4.0634</td>\n",
       "      <td>2.0017</td>\n",
       "      <td>6.3782</td>\n",
       "      <td>0.5019</td>\n",
       "      <td>0.0802</td>\n",
       "      <td>NOK</td>\n",
       "    </tr>\n",
       "    <tr>\n",
       "      <th>5</th>\n",
       "      <td>2.3926</td>\n",
       "      <td>1.2957</td>\n",
       "      <td>3.7398</td>\n",
       "      <td>0.8317</td>\n",
       "      <td>0.1974</td>\n",
       "      <td>OK</td>\n",
       "    </tr>\n",
       "    <tr>\n",
       "      <th>6</th>\n",
       "      <td>2.2502</td>\n",
       "      <td>1.4045</td>\n",
       "      <td>3.6152</td>\n",
       "      <td>0.9566</td>\n",
       "      <td>0.2624</td>\n",
       "      <td>OK</td>\n",
       "    </tr>\n",
       "    <tr>\n",
       "      <th>7</th>\n",
       "      <td>2.6682</td>\n",
       "      <td>1.4022</td>\n",
       "      <td>3.5797</td>\n",
       "      <td>0.8346</td>\n",
       "      <td>0.1802</td>\n",
       "      <td>OK</td>\n",
       "    </tr>\n",
       "    <tr>\n",
       "      <th>8</th>\n",
       "      <td>3.0173</td>\n",
       "      <td>1.1952</td>\n",
       "      <td>3.8982</td>\n",
       "      <td>0.8690</td>\n",
       "      <td>0.2108</td>\n",
       "      <td>OK</td>\n",
       "    </tr>\n",
       "    <tr>\n",
       "      <th>9</th>\n",
       "      <td>2.4635</td>\n",
       "      <td>1.3904</td>\n",
       "      <td>3.4636</td>\n",
       "      <td>0.8393</td>\n",
       "      <td>0.1685</td>\n",
       "      <td>OK</td>\n",
       "    </tr>\n",
       "  </tbody>\n",
       "</table>\n",
       "</div>"
      ]
     },
     "execution_count": 6,
     "metadata": {},
     "output_type": "execute_result"
    }
   ],
   "execution_count": 6
  },
  {
   "cell_type": "code",
   "id": "edf3bd3f",
   "metadata": {
    "ExecuteTime": {
     "end_time": "2025-04-20T08:19:05.038522Z",
     "start_time": "2025-04-20T08:19:05.033140Z"
    }
   },
   "source": [
    "# Cp und Cpk berechnen\n",
    "def calculate_cp_cpk(series, usl, lsl):\n",
    "    mean = series.mean()\n",
    "    std = series.std()\n",
    "    cp = (usl - lsl) / (6 * std)\n",
    "    cpk = min((usl - mean) / (3 * std), (mean - lsl) / (3 * std))\n",
    "    return round(cp, 3), round(cpk, 3), mean, std"
   ],
   "outputs": [],
   "execution_count": 8
  },
  {
   "cell_type": "code",
   "id": "ac7b0f7d",
   "metadata": {
    "ExecuteTime": {
     "end_time": "2025-04-20T08:21:15.480385Z",
     "start_time": "2025-04-20T08:21:15.452389Z"
    }
   },
   "source": [
    "# Beispiel-Toleranzen für convex_volume\n",
    "lsl = 2.0\n",
    "usl = 4.5\n",
    "\n",
    "cp, cpk, mean, std = calculate_cp_cpk(df['convex_volume'], usl, lsl)\n",
    "\n",
    "print(f\"Cp-Wert: {cp}\")\n",
    "print(f\"Cpk-Wert: {cpk}\")"
   ],
   "outputs": [
    {
     "name": "stdout",
     "output_type": "stream",
     "text": [
      "Cp-Wert: 0.48\n",
      "Cpk-Wert: 0.345\n"
     ]
    }
   ],
   "execution_count": 9
  },
  {
   "cell_type": "code",
   "id": "3b0bd81b",
   "metadata": {
    "ExecuteTime": {
     "end_time": "2025-04-20T08:21:18.613589Z",
     "start_time": "2025-04-20T08:21:18.045537Z"
    }
   },
   "source": [
    "\n",
    "# Histogramm mit Toleranzgrenzen\n",
    "plt.figure(figsize=(10, 5))\n",
    "plt.hist(df['convex_volume'], bins=30, color='skyblue', edgecolor='black')\n",
    "plt.axvline(lsl, color='red', linestyle='--', label='LSL')\n",
    "plt.axvline(usl, color='green', linestyle='--', label='USL')\n",
    "plt.axvline(mean, color='blue', linestyle='-', label='Mittelwert')\n",
    "plt.title(\"Verteilung von convex_volume mit Toleranzgrenzen\")\n",
    "plt.xlabel(\"convex_volume [mm³]\")\n",
    "plt.ylabel(\"Häufigkeit\")\n",
    "plt.legend()\n",
    "plt.grid(True)\n",
    "plt.tight_layout()\n",
    "plt.show()\n"
   ],
   "outputs": [
    {
     "data": {
      "text/plain": [
       "<Figure size 1000x500 with 1 Axes>"
      ],
      "image/png": "[encoded data removed]"
     },
     "metadata": {},
     "output_type": "display_data"
    }
   ],
   "execution_count": 10
  },
  {
   "cell_type": "markdown",
   "id": "61a13415",
   "metadata": {},
   "source": [
    "##  Interpretation\n",
    "- Der Cp-Wert liegt bei **0.48** und der Cpk-Wert bei **0.34**, was unterhalb der akzeptablen Prozessfähigkeitsgrenzen liegt.\n",
    "- Das bedeutet: Obwohl das Modell gut erkennt, ist der physische Prozess **nicht stabil genug**.\n",
    "- Die Schwankung im Volumen kann später zu Fehlentscheidungen oder Schlupf führen, wenn sich die Verteilung weiter verschiebt.\n",
    "-  Empfehlung: Prozessparameter wie Lotmenge oder Druck in der Dosierstation überprüfen und optimieren."
   ]
  }
 ],
 "metadata": {
  "kernelspec": {
   "name": "python3",
   "language": "python",
   "display_name": "Python 3 (ipykernel)"
  }
 },
 "nbformat": 4,
 "nbformat_minor": 5
}
